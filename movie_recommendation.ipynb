{
  "cells": [
    {
      "cell_type": "code",
      "execution_count": 81,
      "id": "c7ec3d77-56e5-4f4c-af99-179bd19b3a69",
      "metadata": {
        "id": "c7ec3d77-56e5-4f4c-af99-179bd19b3a69"
      },
      "outputs": [],
      "source": [
        "import pandas as pd\n",
        "movies = pd.read_csv('/movies.csv')"
      ]
    },
    {
      "cell_type": "code",
      "execution_count": 82,
      "id": "9f5ecd71-042a-4373-9363-0c923e8689fb",
      "metadata": {
        "id": "9f5ecd71-042a-4373-9363-0c923e8689fb"
      },
      "outputs": [],
      "source": [
        "import re\n",
        "\n",
        "def clean_title(title):\n",
        "    return re.sub(\"[^a-zA-Z0-9 ]\", \"\", title)"
      ]
    },
    {
      "cell_type": "code",
      "execution_count": 83,
      "id": "c7a0f5a5-35e7-42e3-b51d-f6642d27b109",
      "metadata": {
        "id": "c7a0f5a5-35e7-42e3-b51d-f6642d27b109"
      },
      "outputs": [],
      "source": [
        "movies[\"clean_title\"] = movies[\"title\"].apply(clean_title)"
      ]
    },
    {
      "cell_type": "code",
      "execution_count": 84,
      "id": "28958af7-2808-4b87-b086-8775fc3333e9",
      "metadata": {
        "id": "28958af7-2808-4b87-b086-8775fc3333e9"
      },
      "outputs": [],
      "source": [
        "from sklearn.feature_extraction.text import TfidfVectorizer\n",
        "\n",
        "vectorizer = TfidfVectorizer(ngram_range=(1,2))\n",
        "tfidf = vectorizer.fit_transform(movies[\"clean_title\"])"
      ]
    },
    {
      "cell_type": "code",
      "execution_count": 85,
      "id": "4bbc1197-7c25-4bc0-8c49-a4e77893e00c",
      "metadata": {
        "scrolled": true,
        "id": "4bbc1197-7c25-4bc0-8c49-a4e77893e00c"
      },
      "outputs": [],
      "source": [
        "from sklearn.metrics.pairwise import cosine_similarity\n",
        "import numpy as np\n",
        "\n",
        "def search(title):\n",
        "    title = clean_title(title)\n",
        "    query_vec = vectorizer.transform([title])\n",
        "    similarity = cosine_similarity(query_vec, tfidf).flatten()\n",
        "    indices = np.argpartition(similarity, -5)[-5:]\n",
        "    results = movies.iloc[indices][::-1]\n",
        "    return results"
      ]
    },
    {
      "cell_type": "code",
      "execution_count": 86,
      "id": "78449d58-fe67-4099-927c-e94ad280132f",
      "metadata": {
        "colab": {
          "base_uri": "https://localhost:8080/",
          "height": 49,
          "referenced_widgets": [
            "8247393e45f54fbc94ee87912ad95826",
            "40395a28534f40c18007cfa1b79e09f5",
            "3166a06863f5487ba60a4293fae53968",
            "b2628a1a4ac44495b2a1218422419e5d",
            "345eca1b095842a7b24b850d974d476c"
          ]
        },
        "id": "78449d58-fe67-4099-927c-e94ad280132f",
        "outputId": "b67541e3-209e-4d52-e259-22cd83668ad6"
      },
      "outputs": [
        {
          "output_type": "display_data",
          "data": {
            "text/plain": [
              "Text(value='Toy Story', description='Movie Title')"
            ],
            "application/vnd.jupyter.widget-view+json": {
              "version_major": 2,
              "version_minor": 0,
              "model_id": "8247393e45f54fbc94ee87912ad95826"
            }
          },
          "metadata": {}
        },
        {
          "output_type": "display_data",
          "data": {
            "text/plain": [
              "Output()"
            ],
            "application/vnd.jupyter.widget-view+json": {
              "version_major": 2,
              "version_minor": 0,
              "model_id": "b2628a1a4ac44495b2a1218422419e5d"
            }
          },
          "metadata": {}
        }
      ],
      "source": [
        "import ipywidgets as widgets\n",
        "from IPython.display import display\n",
        "\n",
        "movie_input = widgets.Text(\n",
        "    value=\"Toy Story\",\n",
        "    description=\"Movie Title\",\n",
        "    disabled=False\n",
        ")\n",
        "movie_list = widgets.Output()\n",
        "\n",
        "def on_type(data):\n",
        "    with movie_list:\n",
        "        movie_list.clear_output()\n",
        "        title = data[\"new\"]\n",
        "        if len(title)>5:\n",
        "            display(search(title))\n",
        "\n",
        "movie_input.observe(on_type, names='value')\n",
        "\n",
        "display(movie_input, movie_list)"
      ]
    },
    {
      "cell_type": "code",
      "execution_count": 87,
      "id": "cea565fb-7fb5-45ef-8359-c7965e91c480",
      "metadata": {
        "id": "cea565fb-7fb5-45ef-8359-c7965e91c480"
      },
      "outputs": [],
      "source": [
        "ratings = pd.read_csv('/ratings_1.csv')"
      ]
    },
    {
      "cell_type": "code",
      "execution_count": 88,
      "id": "9b89a97a-f61e-441a-a6f3-0c4a67a6d1a8",
      "metadata": {
        "id": "9b89a97a-f61e-441a-a6f3-0c4a67a6d1a8"
      },
      "outputs": [],
      "source": [
        "movie_id = 1"
      ]
    },
    {
      "cell_type": "code",
      "execution_count": 89,
      "id": "8c954376-c83d-47d0-94aa-9336bd8bb82e",
      "metadata": {
        "id": "8c954376-c83d-47d0-94aa-9336bd8bb82e"
      },
      "outputs": [],
      "source": [
        "similar_users = ratings[(ratings[\"movieId\"] == movie_id) & (ratings[\"rating\"]>4)] [\"userId\"].unique()"
      ]
    },
    {
      "cell_type": "code",
      "execution_count": 90,
      "id": "b03d092b-dc11-438d-888b-e9a6e5aef33c",
      "metadata": {
        "id": "b03d092b-dc11-438d-888b-e9a6e5aef33c"
      },
      "outputs": [],
      "source": [
        "similar_user_recs = ratings[(ratings[\"userId\"].isin(similar_users)) & (ratings[\"rating\"]>4)][\"movieId\"]"
      ]
    },
    {
      "cell_type": "code",
      "execution_count": 91,
      "id": "6ae8a3dd-19d6-4898-90f0-06bbee126219",
      "metadata": {
        "id": "6ae8a3dd-19d6-4898-90f0-06bbee126219"
      },
      "outputs": [],
      "source": [
        "similar_user_recs = similar_user_recs.value_counts() / len(similar_users)\n",
        "similar_user_recs = similar_user_recs[similar_user_recs > .10]"
      ]
    },
    {
      "cell_type": "code",
      "execution_count": 92,
      "id": "13d045b5-bb39-4119-9462-6a70ea740bf1",
      "metadata": {
        "id": "13d045b5-bb39-4119-9462-6a70ea740bf1"
      },
      "outputs": [],
      "source": [
        "all_users = ratings[(ratings[\"movieId\"].isin(similar_user_recs.index)) & (ratings[\"rating\"]>4)]"
      ]
    },
    {
      "cell_type": "code",
      "execution_count": 93,
      "id": "1fb61810-d201-4a6d-a058-8c746499f705",
      "metadata": {
        "id": "1fb61810-d201-4a6d-a058-8c746499f705"
      },
      "outputs": [],
      "source": [
        "all_users_recs = all_users[\"movieId\"].value_counts() / len(all_users[\"userId\"].unique())"
      ]
    },
    {
      "cell_type": "code",
      "execution_count": 94,
      "id": "69877ca9-c7d5-4f81-870e-6f468c87e545",
      "metadata": {
        "id": "69877ca9-c7d5-4f81-870e-6f468c87e545"
      },
      "outputs": [],
      "source": [
        "rec_percentages = pd.concat([similar_user_recs, all_users_recs], axis=1)\n",
        "rec_percentages.columns = [\"similar\", \"all\"]"
      ]
    },
    {
      "cell_type": "code",
      "execution_count": 95,
      "id": "09d52cd4-feb0-4419-9174-40a68ff8218b",
      "metadata": {
        "id": "09d52cd4-feb0-4419-9174-40a68ff8218b"
      },
      "outputs": [],
      "source": [
        "rec_percentages[\"score\"] = rec_percentages[\"similar\"] / rec_percentages[\"all\"]"
      ]
    },
    {
      "cell_type": "code",
      "execution_count": 96,
      "id": "f823b4e2-c10d-4698-9df9-21f1a38cd44f",
      "metadata": {
        "id": "f823b4e2-c10d-4698-9df9-21f1a38cd44f"
      },
      "outputs": [],
      "source": [
        "rec_percentages = rec_percentages.sort_values(\"score\", ascending=False)"
      ]
    },
    {
      "cell_type": "code",
      "execution_count": 97,
      "id": "66df8db9-6d02-4562-b14c-87bf545da60c",
      "metadata": {
        "id": "66df8db9-6d02-4562-b14c-87bf545da60c"
      },
      "outputs": [],
      "source": [
        "rec_percentages = rec_percentages.head(10).merge(movies, left_index=True, right_on=\"movieId\")"
      ]
    },
    {
      "cell_type": "code",
      "execution_count": 98,
      "id": "a9c27546-cf5d-4dd0-b6d5-20aeb3850916",
      "metadata": {
        "id": "a9c27546-cf5d-4dd0-b6d5-20aeb3850916"
      },
      "outputs": [],
      "source": [
        "def find_similar_movies(movie_id):\n",
        "    similar_users = ratings[(ratings[\"movieId\"] == movie_id) & (ratings[\"rating\"]>4)] [\"userId\"].unique()\n",
        "    similar_user_recs = ratings[(ratings[\"userId\"].isin(similar_users)) & (ratings[\"rating\"]>4)][\"movieId\"]\n",
        "\n",
        "    similar_user_recs = similar_user_recs.value_counts() / len(similar_users)\n",
        "    similar_user_recs = similar_user_recs[similar_user_recs > .10]\n",
        "\n",
        "    all_users = ratings[(ratings[\"movieId\"].isin(similar_user_recs.index)) & (ratings[\"rating\"]>4)]\n",
        "    all_users_recs = all_users[\"movieId\"].value_counts() / len(all_users[\"userId\"].unique())\n",
        "\n",
        "    rec_percentages = pd.concat([similar_user_recs, all_users_recs], axis=1)\n",
        "    rec_percentages.columns = [\"similar\", \"all\"]\n",
        "\n",
        "    rec_percentages[\"score\"] = rec_percentages[\"similar\"] / rec_percentages[\"all\"]\n",
        "    rec_percentages = rec_percentages.sort_values(\"score\", ascending=False)\n",
        "\n",
        "    return rec_percentages.head(10).merge(movies, left_index=True, right_on=\"movieId\")[[\"score\", \"title\", \"genres\"]]"
      ]
    },
    {
      "cell_type": "code",
      "execution_count": 99,
      "id": "57f05d0a-9858-42e9-a0eb-3e25de330b35",
      "metadata": {
        "colab": {
          "base_uri": "https://localhost:8080/",
          "height": 395,
          "referenced_widgets": [
            "07e9e374c87149c68d0ba0db7ce15ea6",
            "c1a12a2dffd246f6ad5ffb68689b0d0f",
            "0b46ba7b514f410984f6a006aaf54b7c",
            "5bfeefd393424464a1f112f90d596343",
            "77f9a4dbbfe347e5988ce7ca09015689"
          ]
        },
        "id": "57f05d0a-9858-42e9-a0eb-3e25de330b35",
        "outputId": "59b222c0-ec03-4c7b-a199-cd9d64e21452"
      },
      "outputs": [
        {
          "output_type": "display_data",
          "data": {
            "text/plain": [
              "Text(value='Toy Story', description='MovieTitle:')"
            ],
            "application/vnd.jupyter.widget-view+json": {
              "version_major": 2,
              "version_minor": 0,
              "model_id": "07e9e374c87149c68d0ba0db7ce15ea6"
            }
          },
          "metadata": {}
        },
        {
          "output_type": "display_data",
          "data": {
            "text/plain": [
              "Output()"
            ],
            "application/vnd.jupyter.widget-view+json": {
              "version_major": 2,
              "version_minor": 0,
              "model_id": "5bfeefd393424464a1f112f90d596343"
            }
          },
          "metadata": {}
        }
      ],
      "source": [
        "movie_name_input = widgets.Text(\n",
        "    value =\"Toy Story\",\n",
        "    description=\"MovieTitle:\",\n",
        "    disabled=False\n",
        ")\n",
        "\n",
        "recommendation_list = widgets.Output()\n",
        "\n",
        "def on_type(data):\n",
        "    with recommendation_list:\n",
        "        recommendation_list.clear_output()\n",
        "        title = data[\"new\"]\n",
        "        if len(title)>5:\n",
        "            results = search(title)\n",
        "            movie_id = results.iloc[0][\"movieId\"]\n",
        "            display(find_similar_movies(movie_id))\n",
        "\n",
        "movie_name_input.observe(on_type, names=\"value\")\n",
        "display(movie_name_input, recommendation_list)"
      ]
    }
  ],
  "metadata": {
    "kernelspec": {
      "display_name": "Python 3 (ipykernel)",
      "language": "python",
      "name": "python3"
    },
    "language_info": {
      "codemirror_mode": {
        "name": "ipython",
        "version": 3
      },
      "file_extension": ".py",
      "mimetype": "text/x-python",
      "name": "python",
      "nbconvert_exporter": "python",
      "pygments_lexer": "ipython3",
      "version": "3.12.3"
    },
    "colab": {
      "provenance": []
    },
    "widgets": {
      "application/vnd.jupyter.widget-state+json": {
        "8247393e45f54fbc94ee87912ad95826": {
          "model_module": "@jupyter-widgets/controls",
          "model_name": "TextModel",
          "model_module_version": "1.5.0",
          "state": {
            "_dom_classes": [],
            "_model_module": "@jupyter-widgets/controls",
            "_model_module_version": "1.5.0",
            "_model_name": "TextModel",
            "_view_count": null,
            "_view_module": "@jupyter-widgets/controls",
            "_view_module_version": "1.5.0",
            "_view_name": "TextView",
            "continuous_update": true,
            "description": "Movie Title",
            "description_tooltip": null,
            "disabled": false,
            "layout": "IPY_MODEL_40395a28534f40c18007cfa1b79e09f5",
            "placeholder": "​",
            "style": "IPY_MODEL_3166a06863f5487ba60a4293fae53968",
            "value": "Toy Story"
          }
        },
        "40395a28534f40c18007cfa1b79e09f5": {
          "model_module": "@jupyter-widgets/base",
          "model_name": "LayoutModel",
          "model_module_version": "1.2.0",
          "state": {
            "_model_module": "@jupyter-widgets/base",
            "_model_module_version": "1.2.0",
            "_model_name": "LayoutModel",
            "_view_count": null,
            "_view_module": "@jupyter-widgets/base",
            "_view_module_version": "1.2.0",
            "_view_name": "LayoutView",
            "align_content": null,
            "align_items": null,
            "align_self": null,
            "border": null,
            "bottom": null,
            "display": null,
            "flex": null,
            "flex_flow": null,
            "grid_area": null,
            "grid_auto_columns": null,
            "grid_auto_flow": null,
            "grid_auto_rows": null,
            "grid_column": null,
            "grid_gap": null,
            "grid_row": null,
            "grid_template_areas": null,
            "grid_template_columns": null,
            "grid_template_rows": null,
            "height": null,
            "justify_content": null,
            "justify_items": null,
            "left": null,
            "margin": null,
            "max_height": null,
            "max_width": null,
            "min_height": null,
            "min_width": null,
            "object_fit": null,
            "object_position": null,
            "order": null,
            "overflow": null,
            "overflow_x": null,
            "overflow_y": null,
            "padding": null,
            "right": null,
            "top": null,
            "visibility": null,
            "width": null
          }
        },
        "3166a06863f5487ba60a4293fae53968": {
          "model_module": "@jupyter-widgets/controls",
          "model_name": "DescriptionStyleModel",
          "model_module_version": "1.5.0",
          "state": {
            "_model_module": "@jupyter-widgets/controls",
            "_model_module_version": "1.5.0",
            "_model_name": "DescriptionStyleModel",
            "_view_count": null,
            "_view_module": "@jupyter-widgets/base",
            "_view_module_version": "1.2.0",
            "_view_name": "StyleView",
            "description_width": ""
          }
        },
        "b2628a1a4ac44495b2a1218422419e5d": {
          "model_module": "@jupyter-widgets/output",
          "model_name": "OutputModel",
          "model_module_version": "1.0.0",
          "state": {
            "_dom_classes": [],
            "_model_module": "@jupyter-widgets/output",
            "_model_module_version": "1.0.0",
            "_model_name": "OutputModel",
            "_view_count": null,
            "_view_module": "@jupyter-widgets/output",
            "_view_module_version": "1.0.0",
            "_view_name": "OutputView",
            "layout": "IPY_MODEL_345eca1b095842a7b24b850d974d476c",
            "msg_id": "",
            "outputs": []
          }
        },
        "345eca1b095842a7b24b850d974d476c": {
          "model_module": "@jupyter-widgets/base",
          "model_name": "LayoutModel",
          "model_module_version": "1.2.0",
          "state": {
            "_model_module": "@jupyter-widgets/base",
            "_model_module_version": "1.2.0",
            "_model_name": "LayoutModel",
            "_view_count": null,
            "_view_module": "@jupyter-widgets/base",
            "_view_module_version": "1.2.0",
            "_view_name": "LayoutView",
            "align_content": null,
            "align_items": null,
            "align_self": null,
            "border": null,
            "bottom": null,
            "display": null,
            "flex": null,
            "flex_flow": null,
            "grid_area": null,
            "grid_auto_columns": null,
            "grid_auto_flow": null,
            "grid_auto_rows": null,
            "grid_column": null,
            "grid_gap": null,
            "grid_row": null,
            "grid_template_areas": null,
            "grid_template_columns": null,
            "grid_template_rows": null,
            "height": null,
            "justify_content": null,
            "justify_items": null,
            "left": null,
            "margin": null,
            "max_height": null,
            "max_width": null,
            "min_height": null,
            "min_width": null,
            "object_fit": null,
            "object_position": null,
            "order": null,
            "overflow": null,
            "overflow_x": null,
            "overflow_y": null,
            "padding": null,
            "right": null,
            "top": null,
            "visibility": null,
            "width": null
          }
        },
        "07e9e374c87149c68d0ba0db7ce15ea6": {
          "model_module": "@jupyter-widgets/controls",
          "model_name": "TextModel",
          "model_module_version": "1.5.0",
          "state": {
            "_dom_classes": [],
            "_model_module": "@jupyter-widgets/controls",
            "_model_module_version": "1.5.0",
            "_model_name": "TextModel",
            "_view_count": null,
            "_view_module": "@jupyter-widgets/controls",
            "_view_module_version": "1.5.0",
            "_view_name": "TextView",
            "continuous_update": true,
            "description": "MovieTitle:",
            "description_tooltip": null,
            "disabled": false,
            "layout": "IPY_MODEL_c1a12a2dffd246f6ad5ffb68689b0d0f",
            "placeholder": "​",
            "style": "IPY_MODEL_0b46ba7b514f410984f6a006aaf54b7c",
            "value": "The Karate kid"
          }
        },
        "c1a12a2dffd246f6ad5ffb68689b0d0f": {
          "model_module": "@jupyter-widgets/base",
          "model_name": "LayoutModel",
          "model_module_version": "1.2.0",
          "state": {
            "_model_module": "@jupyter-widgets/base",
            "_model_module_version": "1.2.0",
            "_model_name": "LayoutModel",
            "_view_count": null,
            "_view_module": "@jupyter-widgets/base",
            "_view_module_version": "1.2.0",
            "_view_name": "LayoutView",
            "align_content": null,
            "align_items": null,
            "align_self": null,
            "border": null,
            "bottom": null,
            "display": null,
            "flex": null,
            "flex_flow": null,
            "grid_area": null,
            "grid_auto_columns": null,
            "grid_auto_flow": null,
            "grid_auto_rows": null,
            "grid_column": null,
            "grid_gap": null,
            "grid_row": null,
            "grid_template_areas": null,
            "grid_template_columns": null,
            "grid_template_rows": null,
            "height": null,
            "justify_content": null,
            "justify_items": null,
            "left": null,
            "margin": null,
            "max_height": null,
            "max_width": null,
            "min_height": null,
            "min_width": null,
            "object_fit": null,
            "object_position": null,
            "order": null,
            "overflow": null,
            "overflow_x": null,
            "overflow_y": null,
            "padding": null,
            "right": null,
            "top": null,
            "visibility": null,
            "width": null
          }
        },
        "0b46ba7b514f410984f6a006aaf54b7c": {
          "model_module": "@jupyter-widgets/controls",
          "model_name": "DescriptionStyleModel",
          "model_module_version": "1.5.0",
          "state": {
            "_model_module": "@jupyter-widgets/controls",
            "_model_module_version": "1.5.0",
            "_model_name": "DescriptionStyleModel",
            "_view_count": null,
            "_view_module": "@jupyter-widgets/base",
            "_view_module_version": "1.2.0",
            "_view_name": "StyleView",
            "description_width": ""
          }
        },
        "5bfeefd393424464a1f112f90d596343": {
          "model_module": "@jupyter-widgets/output",
          "model_name": "OutputModel",
          "model_module_version": "1.0.0",
          "state": {
            "_dom_classes": [],
            "_model_module": "@jupyter-widgets/output",
            "_model_module_version": "1.0.0",
            "_model_name": "OutputModel",
            "_view_count": null,
            "_view_module": "@jupyter-widgets/output",
            "_view_module_version": "1.0.0",
            "_view_name": "OutputView",
            "layout": "IPY_MODEL_77f9a4dbbfe347e5988ce7ca09015689",
            "msg_id": "",
            "outputs": [
              {
                "output_type": "display_data",
                "data": {
                  "text/plain": "       score                               title  \\\n30081  931.0      The Secret Life of Pets (2016)   \n54090  931.0                          Tag (2018)   \n32342  931.0               American Ultra (2015)   \n51293  931.0                       Bright (2017)   \n19341  931.0          Beautiful Creatures (2013)   \n51132  931.0               Bleeding Steel (2017)   \n19429  931.0    Oz the Great and Powerful (2013)   \n19510  931.0              First Time, The (2012)   \n49913  931.0                   Downsizing (2017)   \n13585  931.0  G.I. Joe: The Rise of Cobra (2009)   \n\n                                 genres  \n30081                  Animation|Comedy  \n54090                            Comedy  \n32342     Action|Comedy|Sci-Fi|Thriller  \n51293              Action|Crime|Fantasy  \n19341             Drama|Fantasy|Romance  \n51132              Action|Comedy|Sci-Fi  \n19429     Action|Adventure|Fantasy|IMAX  \n19510              Comedy|Drama|Romance  \n49913               Comedy|Drama|Sci-Fi  \n13585  Action|Adventure|Sci-Fi|Thriller  ",
                  "text/html": "\n  <div id=\"df-030d4492-85ce-4906-b2da-2064303f5fbb\" class=\"colab-df-container\">\n    <div>\n<style scoped>\n    .dataframe tbody tr th:only-of-type {\n        vertical-align: middle;\n    }\n\n    .dataframe tbody tr th {\n        vertical-align: top;\n    }\n\n    .dataframe thead th {\n        text-align: right;\n    }\n</style>\n<table border=\"1\" class=\"dataframe\">\n  <thead>\n    <tr style=\"text-align: right;\">\n      <th></th>\n      <th>score</th>\n      <th>title</th>\n      <th>genres</th>\n    </tr>\n  </thead>\n  <tbody>\n    <tr>\n      <th>30081</th>\n      <td>931.0</td>\n      <td>The Secret Life of Pets (2016)</td>\n      <td>Animation|Comedy</td>\n    </tr>\n    <tr>\n      <th>54090</th>\n      <td>931.0</td>\n      <td>Tag (2018)</td>\n      <td>Comedy</td>\n    </tr>\n    <tr>\n      <th>32342</th>\n      <td>931.0</td>\n      <td>American Ultra (2015)</td>\n      <td>Action|Comedy|Sci-Fi|Thriller</td>\n    </tr>\n    <tr>\n      <th>51293</th>\n      <td>931.0</td>\n      <td>Bright (2017)</td>\n      <td>Action|Crime|Fantasy</td>\n    </tr>\n    <tr>\n      <th>19341</th>\n      <td>931.0</td>\n      <td>Beautiful Creatures (2013)</td>\n      <td>Drama|Fantasy|Romance</td>\n    </tr>\n    <tr>\n      <th>51132</th>\n      <td>931.0</td>\n      <td>Bleeding Steel (2017)</td>\n      <td>Action|Comedy|Sci-Fi</td>\n    </tr>\n    <tr>\n      <th>19429</th>\n      <td>931.0</td>\n      <td>Oz the Great and Powerful (2013)</td>\n      <td>Action|Adventure|Fantasy|IMAX</td>\n    </tr>\n    <tr>\n      <th>19510</th>\n      <td>931.0</td>\n      <td>First Time, The (2012)</td>\n      <td>Comedy|Drama|Romance</td>\n    </tr>\n    <tr>\n      <th>49913</th>\n      <td>931.0</td>\n      <td>Downsizing (2017)</td>\n      <td>Comedy|Drama|Sci-Fi</td>\n    </tr>\n    <tr>\n      <th>13585</th>\n      <td>931.0</td>\n      <td>G.I. Joe: The Rise of Cobra (2009)</td>\n      <td>Action|Adventure|Sci-Fi|Thriller</td>\n    </tr>\n  </tbody>\n</table>\n</div>\n    <div class=\"colab-df-buttons\">\n\n  <div class=\"colab-df-container\">\n    <button class=\"colab-df-convert\" onclick=\"convertToInteractive('df-030d4492-85ce-4906-b2da-2064303f5fbb')\"\n            title=\"Convert this dataframe to an interactive table.\"\n            style=\"display:none;\">\n\n  <svg xmlns=\"http://www.w3.org/2000/svg\" height=\"24px\" viewBox=\"0 -960 960 960\">\n    <path d=\"M120-120v-720h720v720H120Zm60-500h600v-160H180v160Zm220 220h160v-160H400v160Zm0 220h160v-160H400v160ZM180-400h160v-160H180v160Zm440 0h160v-160H620v160ZM180-180h160v-160H180v160Zm440 0h160v-160H620v160Z\"/>\n  </svg>\n    </button>\n\n  <style>\n    .colab-df-container {\n      display:flex;\n      gap: 12px;\n    }\n\n    .colab-df-convert {\n      background-color: #E8F0FE;\n      border: none;\n      border-radius: 50%;\n      cursor: pointer;\n      display: none;\n      fill: #1967D2;\n      height: 32px;\n      padding: 0 0 0 0;\n      width: 32px;\n    }\n\n    .colab-df-convert:hover {\n      background-color: #E2EBFA;\n      box-shadow: 0px 1px 2px rgba(60, 64, 67, 0.3), 0px 1px 3px 1px rgba(60, 64, 67, 0.15);\n      fill: #174EA6;\n    }\n\n    .colab-df-buttons div {\n      margin-bottom: 4px;\n    }\n\n    [theme=dark] .colab-df-convert {\n      background-color: #3B4455;\n      fill: #D2E3FC;\n    }\n\n    [theme=dark] .colab-df-convert:hover {\n      background-color: #434B5C;\n      box-shadow: 0px 1px 3px 1px rgba(0, 0, 0, 0.15);\n      filter: drop-shadow(0px 1px 2px rgba(0, 0, 0, 0.3));\n      fill: #FFFFFF;\n    }\n  </style>\n\n    <script>\n      const buttonEl =\n        document.querySelector('#df-030d4492-85ce-4906-b2da-2064303f5fbb button.colab-df-convert');\n      buttonEl.style.display =\n        google.colab.kernel.accessAllowed ? 'block' : 'none';\n\n      async function convertToInteractive(key) {\n        const element = document.querySelector('#df-030d4492-85ce-4906-b2da-2064303f5fbb');\n        const dataTable =\n          await google.colab.kernel.invokeFunction('convertToInteractive',\n                                                    [key], {});\n        if (!dataTable) return;\n\n        const docLinkHtml = 'Like what you see? Visit the ' +\n          '<a target=\"_blank\" href=https://colab.research.google.com/notebooks/data_table.ipynb>data table notebook</a>'\n          + ' to learn more about interactive tables.';\n        element.innerHTML = '';\n        dataTable['output_type'] = 'display_data';\n        await google.colab.output.renderOutput(dataTable, element);\n        const docLink = document.createElement('div');\n        docLink.innerHTML = docLinkHtml;\n        element.appendChild(docLink);\n      }\n    </script>\n  </div>\n\n\n<div id=\"df-136df2a4-546e-400d-b49c-37cd8b21491b\">\n  <button class=\"colab-df-quickchart\" onclick=\"quickchart('df-136df2a4-546e-400d-b49c-37cd8b21491b')\"\n            title=\"Suggest charts\"\n            style=\"display:none;\">\n\n<svg xmlns=\"http://www.w3.org/2000/svg\" height=\"24px\"viewBox=\"0 0 24 24\"\n     width=\"24px\">\n    <g>\n        <path d=\"M19 3H5c-1.1 0-2 .9-2 2v14c0 1.1.9 2 2 2h14c1.1 0 2-.9 2-2V5c0-1.1-.9-2-2-2zM9 17H7v-7h2v7zm4 0h-2V7h2v10zm4 0h-2v-4h2v4z\"/>\n    </g>\n</svg>\n  </button>\n\n<style>\n  .colab-df-quickchart {\n      --bg-color: #E8F0FE;\n      --fill-color: #1967D2;\n      --hover-bg-color: #E2EBFA;\n      --hover-fill-color: #174EA6;\n      --disabled-fill-color: #AAA;\n      --disabled-bg-color: #DDD;\n  }\n\n  [theme=dark] .colab-df-quickchart {\n      --bg-color: #3B4455;\n      --fill-color: #D2E3FC;\n      --hover-bg-color: #434B5C;\n      --hover-fill-color: #FFFFFF;\n      --disabled-bg-color: #3B4455;\n      --disabled-fill-color: #666;\n  }\n\n  .colab-df-quickchart {\n    background-color: var(--bg-color);\n    border: none;\n    border-radius: 50%;\n    cursor: pointer;\n    display: none;\n    fill: var(--fill-color);\n    height: 32px;\n    padding: 0;\n    width: 32px;\n  }\n\n  .colab-df-quickchart:hover {\n    background-color: var(--hover-bg-color);\n    box-shadow: 0 1px 2px rgba(60, 64, 67, 0.3), 0 1px 3px 1px rgba(60, 64, 67, 0.15);\n    fill: var(--button-hover-fill-color);\n  }\n\n  .colab-df-quickchart-complete:disabled,\n  .colab-df-quickchart-complete:disabled:hover {\n    background-color: var(--disabled-bg-color);\n    fill: var(--disabled-fill-color);\n    box-shadow: none;\n  }\n\n  .colab-df-spinner {\n    border: 2px solid var(--fill-color);\n    border-color: transparent;\n    border-bottom-color: var(--fill-color);\n    animation:\n      spin 1s steps(1) infinite;\n  }\n\n  @keyframes spin {\n    0% {\n      border-color: transparent;\n      border-bottom-color: var(--fill-color);\n      border-left-color: var(--fill-color);\n    }\n    20% {\n      border-color: transparent;\n      border-left-color: var(--fill-color);\n      border-top-color: var(--fill-color);\n    }\n    30% {\n      border-color: transparent;\n      border-left-color: var(--fill-color);\n      border-top-color: var(--fill-color);\n      border-right-color: var(--fill-color);\n    }\n    40% {\n      border-color: transparent;\n      border-right-color: var(--fill-color);\n      border-top-color: var(--fill-color);\n    }\n    60% {\n      border-color: transparent;\n      border-right-color: var(--fill-color);\n    }\n    80% {\n      border-color: transparent;\n      border-right-color: var(--fill-color);\n      border-bottom-color: var(--fill-color);\n    }\n    90% {\n      border-color: transparent;\n      border-bottom-color: var(--fill-color);\n    }\n  }\n</style>\n\n  <script>\n    async function quickchart(key) {\n      const quickchartButtonEl =\n        document.querySelector('#' + key + ' button');\n      quickchartButtonEl.disabled = true;  // To prevent multiple clicks.\n      quickchartButtonEl.classList.add('colab-df-spinner');\n      try {\n        const charts = await google.colab.kernel.invokeFunction(\n            'suggestCharts', [key], {});\n      } catch (error) {\n        console.error('Error during call to suggestCharts:', error);\n      }\n      quickchartButtonEl.classList.remove('colab-df-spinner');\n      quickchartButtonEl.classList.add('colab-df-quickchart-complete');\n    }\n    (() => {\n      let quickchartButtonEl =\n        document.querySelector('#df-136df2a4-546e-400d-b49c-37cd8b21491b button');\n      quickchartButtonEl.style.display =\n        google.colab.kernel.accessAllowed ? 'block' : 'none';\n    })();\n  </script>\n</div>\n\n    </div>\n  </div>\n",
                  "application/vnd.google.colaboratory.intrinsic+json": {
                    "type": "dataframe",
                    "summary": "{\n  \"name\": \"display(movie_name_input, recommendation_list)\",\n  \"rows\": 10,\n  \"fields\": [\n    {\n      \"column\": \"score\",\n      \"properties\": {\n        \"dtype\": \"number\",\n        \"std\": 0.0,\n        \"min\": 931.0,\n        \"max\": 931.0,\n        \"num_unique_values\": 1,\n        \"samples\": [\n          931.0\n        ],\n        \"semantic_type\": \"\",\n        \"description\": \"\"\n      }\n    },\n    {\n      \"column\": \"title\",\n      \"properties\": {\n        \"dtype\": \"string\",\n        \"num_unique_values\": 10,\n        \"samples\": [\n          \"Downsizing (2017)\"\n        ],\n        \"semantic_type\": \"\",\n        \"description\": \"\"\n      }\n    },\n    {\n      \"column\": \"genres\",\n      \"properties\": {\n        \"dtype\": \"string\",\n        \"num_unique_values\": 10,\n        \"samples\": [\n          \"Comedy|Drama|Sci-Fi\"\n        ],\n        \"semantic_type\": \"\",\n        \"description\": \"\"\n      }\n    }\n  ]\n}"
                  }
                },
                "metadata": {}
              }
            ]
          }
        },
        "77f9a4dbbfe347e5988ce7ca09015689": {
          "model_module": "@jupyter-widgets/base",
          "model_name": "LayoutModel",
          "model_module_version": "1.2.0",
          "state": {
            "_model_module": "@jupyter-widgets/base",
            "_model_module_version": "1.2.0",
            "_model_name": "LayoutModel",
            "_view_count": null,
            "_view_module": "@jupyter-widgets/base",
            "_view_module_version": "1.2.0",
            "_view_name": "LayoutView",
            "align_content": null,
            "align_items": null,
            "align_self": null,
            "border": null,
            "bottom": null,
            "display": null,
            "flex": null,
            "flex_flow": null,
            "grid_area": null,
            "grid_auto_columns": null,
            "grid_auto_flow": null,
            "grid_auto_rows": null,
            "grid_column": null,
            "grid_gap": null,
            "grid_row": null,
            "grid_template_areas": null,
            "grid_template_columns": null,
            "grid_template_rows": null,
            "height": null,
            "justify_content": null,
            "justify_items": null,
            "left": null,
            "margin": null,
            "max_height": null,
            "max_width": null,
            "min_height": null,
            "min_width": null,
            "object_fit": null,
            "object_position": null,
            "order": null,
            "overflow": null,
            "overflow_x": null,
            "overflow_y": null,
            "padding": null,
            "right": null,
            "top": null,
            "visibility": null,
            "width": null
          }
        }
      }
    }
  },
  "nbformat": 4,
  "nbformat_minor": 5
}